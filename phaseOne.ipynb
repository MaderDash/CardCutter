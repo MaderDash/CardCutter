{
 "cells": [
  {
   "cell_type": "markdown",
   "metadata": {},
   "source": [
    "#  Card cutter app.\n",
    "---\n",
    "#####   You will need to download the app [popplar](https://github.com/oschwartz10612/poppler-windows/releases). After DL'ing this you will need to unzip the file to a location that you have for future use.\n",
    "##### Then you will need to go to your windows environment variables and add a new path to the bin folder inside the file you just unziped.\n",
    "##### This is so the notebook/python can then use it to locate the pdf file pages.\n",
    "[How to loocate emvirement setting in windows](https://windowsreport.com/environment-variables-windows-11/)\n",
    "---\n",
    "##### This takes the PDF images of cards, and cuts them into a folder of images. This way you can use them digitaly."
   ]
  },
  {
   "cell_type": "code",
   "execution_count": 1,
   "metadata": {},
   "outputs": [
    {
     "name": "stdout",
     "output_type": "stream",
     "text": [
      "Requirement already satisfied: pdf2image in c:\\python312\\lib\\site-packages (1.17.0)\n",
      "Requirement already satisfied: pillow in c:\\python312\\lib\\site-packages (from pdf2image) (10.4.0)\n"
     ]
    },
    {
     "name": "stderr",
     "output_type": "stream",
     "text": [
      "\n",
      "[notice] A new release of pip is available: 24.0 -> 24.2\n",
      "[notice] To update, run: python.exe -m pip install --upgrade pip\n"
     ]
    }
   ],
   "source": [
    "!pip install pdf2image\n",
    "import os \n",
    "from PIL import Image, ImageDraw"
   ]
  },
  {
   "cell_type": "markdown",
   "metadata": {},
   "source": [
    "# Convert pdf to jpg\n",
    "##### The bellow code is commented out as it only needs to be ran a single time and it will produce the jpgs in the same directory as the pdf. After you have sucessfully ran it once, you can comment it out. Note that the folder/file naes are hardcoded. you will need to change them to match your own file names. And you will need to change the path to the pdf."
   ]
  },
  {
   "cell_type": "markdown",
   "metadata": {},
   "source": [
    "#### You will need to place the PDF's of the cards into the folder marked `\"Place_Pdf_Here\"`.  This will change all of the PDF's into images and place them into the folder `\"Place_Pre_cuts_here\"`.  You can alturnativly place the allready made images into this folder, then move forward from here if you choose to do so."
   ]
  },
  {
   "cell_type": "code",
   "execution_count": 4,
   "metadata": {},
   "outputs": [],
   "source": [
    "\n",
    "\n",
    "from pdf2image import convert_from_path\n",
    "import os\n",
    "\n",
    "# Get the current working directory\n",
    "current_dir = os.path.dirname(os.path.abspath(__file__))\n",
    "\n",
    "# Define paths relative to the current directory\n",
    "pdf_file = os.path.join(current_dir, 'Place_PDF_In_Here', 'your_pdf_file.pdf')\n",
    "output_folder = os.path.join(current_dir, 'Place_Pre_cuts_here')\n",
    "\n",
    "images = convert_from_path(pdf_file)\n",
    "\n",
    "pdf_file = r'Place_PDF_In_Here'  # Replace with your PDF's path if needed.\n",
    "output_folder = r'Place_Pre_cuts_here'  # Replace with your desired output folder\n",
    "\n",
    "images = convert_from_path(pdf_file)\n",
    "\n",
    "for i, image in enumerate(images):\n",
    "    image.save(f'{output_folder}/page_{i+1}.jpg', 'JPEG')\n"
   ]
  },
  {
   "cell_type": "markdown",
   "metadata": {},
   "source": []
  },
  {
   "cell_type": "code",
   "execution_count": null,
   "metadata": {},
   "outputs": [],
   "source": [
    "# I want to display all images in the folder"
   ]
  },
  {
   "cell_type": "markdown",
   "metadata": {},
   "source": [
    "# The padding found in the sheet is:\n",
    "##### This is for a 2 row, three column layout. for the cards. ![Example](JPGImages\\page_24.jpg)\n",
    "### card size:\n",
    "-  width 343\n",
    "-  height 750\n",
    "\n",
    "###  card spaceing:\n",
    " -  Horizontal: 167\n",
    " -  Vertical: 67\n",
    "\n",
    " ###  card padding:\n",
    " -  padding LEFT: 117\n",
    " -  padding RIGHT: 65\n"
   ]
  },
  {
   "cell_type": "markdown",
   "metadata": {},
   "source": [
    "#  Test your cordnats\n",
    "##### This code will place red box's around the \"cards\" according to the cordnats you give it. You will need to be sure to give it the correct cordnats. and can fine tune it. after its tuned the next step will use thease setting to make the images later so take your time and tune it. well."
   ]
  },
  {
   "cell_type": "code",
   "execution_count": 34,
   "metadata": {},
   "outputs": [
    {
     "name": "stderr",
     "output_type": "stream",
     "text": [
      "<>:1: SyntaxWarning: invalid escape sequence '\\p'\n",
      "<>:1: SyntaxWarning: invalid escape sequence '\\p'\n",
      "C:\\Users\\Administrator\\AppData\\Local\\Temp\\ipykernel_46524\\2838397205.py:1: SyntaxWarning: invalid escape sequence '\\p'\n",
      "  image_path = 'GMA_SciFi\\page_1.jpg'\n"
     ]
    }
   ],
   "source": [
    "image_path = 'GMA_SciFi\\page_1.jpg'  \n",
    "image = Image.open(image_path)\n",
    "\n",
    "draw = ImageDraw.Draw(image)\n",
    "\n",
    "card_width = 747   # 543\n",
    "card_height = 543  # 750\n",
    "card_spacing_horizontal = 52 # 167\n",
    "card_spacing_vertical = 211    # 67\n",
    "\n",
    "padding_left = 52   # Padding from the left edge of the image\n",
    "padding_top = 140    # Padding from the top edge of the image \n",
    "\n",
    "for row in range(3): \n",
    "    for col in range(2): \n",
    "        left = padding_left + col * (card_width + card_spacing_horizontal)\n",
    "        top = padding_top + row * (card_height + card_spacing_vertical)\n",
    "        right = left + card_width\n",
    "        bottom = top + card_height\n",
    "\n",
    "        draw.rectangle((left, top, right, bottom), outline=\"red\", width=3)\n",
    "\n",
    "image.show() "
   ]
  },
  {
   "cell_type": "markdown",
   "metadata": {},
   "source": [
    "# The last step:\n",
    "##### This is the last step of the notebook. It will place all of the croped card images,"
   ]
  },
  {
   "cell_type": "code",
   "execution_count": 35,
   "metadata": {},
   "outputs": [
    {
     "name": "stdout",
     "output_type": "stream",
     "text": [
      "looping\n",
      "looping\n",
      "looping\n",
      "looping\n",
      "looping\n",
      "looping\n",
      "looping\n",
      "looping\n",
      "looping\n",
      "looping\n",
      "looping\n",
      "looping\n",
      "looping\n",
      "looping\n",
      "looping\n",
      "looping\n",
      "looping\n",
      "looping\n",
      "looping\n",
      "looping\n",
      "looping\n",
      "looping\n",
      "looping\n",
      "looping\n",
      "looping\n",
      "looping\n",
      "looping\n",
      "looping\n",
      "looping\n",
      "looping\n",
      "looping\n",
      "looping\n",
      "looping\n",
      "looping\n",
      "looping\n",
      "looping\n",
      "looping\n",
      "looping\n",
      "looping\n",
      "looping\n",
      "looping\n",
      "looping\n",
      "looping\n",
      "looping\n",
      "looping\n",
      "looping\n",
      "looping\n",
      "looping\n",
      "looping\n",
      "looping\n",
      "looping\n",
      "looping\n",
      "looping\n",
      "looping\n",
      "looping\n",
      "looping\n",
      "looping\n",
      "looping\n",
      "looping\n",
      "looping\n",
      "looping\n",
      "looping\n",
      "looping\n",
      "looping\n",
      "looping\n",
      "looping\n",
      "looping\n",
      "looping\n",
      "looping\n",
      "looping\n",
      "looping\n",
      "looping\n",
      "looping\n",
      "looping\n",
      "looping\n",
      "looping\n",
      "looping\n",
      "looping\n",
      "looping\n",
      "looping\n",
      "looping\n",
      "looping\n",
      "looping\n",
      "looping\n",
      "looping\n",
      "looping\n",
      "looping\n",
      "looping\n",
      "looping\n",
      "looping\n",
      "looping\n",
      "looping\n",
      "looping\n",
      "looping\n",
      "looping\n",
      "looping\n",
      "looping\n",
      "looping\n",
      "looping\n",
      "looping\n",
      "looping\n",
      "looping\n",
      "looping\n",
      "looping\n",
      "looping\n",
      "looping\n",
      "looping\n",
      "looping\n",
      "looping\n",
      "looping\n",
      "looping\n",
      "looping\n",
      "looping\n",
      "looping\n",
      "looping\n",
      "looping\n",
      "looping\n",
      "looping\n",
      "looping\n",
      "looping\n",
      "Finished processing pages.\n"
     ]
    }
   ],
   "source": [
    "image_folder = 'GMA_SciFi'\n",
    "start_page = 1  #this will need to be set to the lowest page value in the folder\n",
    "\n",
    "card_count = 1\n",
    "\n",
    "for page_num in range(start_page, 1000): \n",
    "    try:\n",
    "        image_path = f'{image_folder}/page_{page_num}.jpg'\n",
    "        image = Image.open(image_path) \n",
    "\n",
    "        for row in range(2):  \n",
    "            for col in range(3):  \n",
    "                left = padding_left + col * (card_width + card_spacing_horizontal)\n",
    "                top = padding_top + row * (card_height + card_spacing_vertical)\n",
    "                right = left + card_width\n",
    "                bottom = top + card_height\n",
    "\n",
    "                card = image.crop((left, top, right, bottom))\n",
    "                card.save(f'{image_folder}/card_{card_count}.jpg')\n",
    "                card_count += 1\n",
    "                print(\"looping\")\n",
    "\n",
    "    except FileNotFoundError:\n",
    "        print(f\"Finished processing pages.\") \n",
    "        break \n"
   ]
  }
 ],
 "metadata": {
  "kernelspec": {
   "display_name": "Python 3",
   "language": "python",
   "name": "python3"
  },
  "language_info": {
   "codemirror_mode": {
    "name": "ipython",
    "version": 3
   },
   "file_extension": ".py",
   "mimetype": "text/x-python",
   "name": "python",
   "nbconvert_exporter": "python",
   "pygments_lexer": "ipython3",
   "version": "3.12.4"
  }
 },
 "nbformat": 4,
 "nbformat_minor": 2
}
